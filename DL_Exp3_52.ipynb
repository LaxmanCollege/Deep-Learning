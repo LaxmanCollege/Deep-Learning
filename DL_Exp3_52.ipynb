{
  "nbformat": 4,
  "nbformat_minor": 0,
  "metadata": {
    "colab": {
      "provenance": [],
      "toc_visible": true
    },
    "kernelspec": {
      "name": "python3",
      "display_name": "Python 3"
    },
    "language_info": {
      "name": "python"
    }
  },
  "cells": [
    {
      "cell_type": "code",
      "execution_count": 3,
      "metadata": {
        "id": "Rym-N5Qx9naT"
      },
      "outputs": [],
      "source": [
        "def momentum_gradient_descent(gradient_func, initial_position, learning_rate=0.01, momentum=0.9, num_iterations=100):\n",
        "  position = initial_position\n",
        "  velocity = 0\n",
        "  for _ in range(num_iterations):\n",
        "    gradient = gradient_func(position)\n",
        "    velocity = momentum * velocity - learning_rate * gradient\n",
        "    position += velocity\n",
        "  return position\n"
      ]
    },
    {
      "cell_type": "code",
      "source": [
        "# Example usage:\n",
        "def quadratic_function(x):\n",
        "  return 2 * x - 4 # Gradient of the function 2x^2 - 4x\n"
      ],
      "metadata": {
        "id": "0Y3LG3Yz-6xT"
      },
      "execution_count": 4,
      "outputs": []
    },
    {
      "cell_type": "code",
      "source": [
        "initial_position = 0 # Initial position of the optimization process\n",
        "final_position_momentum = momentum_gradient_descent(quadratic_function, initial_position)\n",
        "print(\"Optimal solution using Momentum:\", final_position_momentum)"
      ],
      "metadata": {
        "colab": {
          "base_uri": "https://localhost:8080/"
        },
        "id": "RVk8ygeZ-9Fs",
        "outputId": "880a1984-1f4e-4eb8-dc53-5b6ceaee2553"
      },
      "execution_count": 5,
      "outputs": [
        {
          "output_type": "stream",
          "name": "stdout",
          "text": [
            "Optimal solution using Momentum: 1.9915437725637428\n"
          ]
        }
      ]
    },
    {
      "cell_type": "code",
      "source": [],
      "metadata": {
        "id": "4sqJj_glCOeE"
      },
      "execution_count": null,
      "outputs": []
    }
  ]
}